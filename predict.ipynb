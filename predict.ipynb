{
 "cells": [
  {
   "cell_type": "code",
   "execution_count": null,
   "metadata": {},
   "outputs": [],
   "source": [
    "\"\"\"\n",
    "用意したエンドポイントを用いて推論を行なう\n",
    "\"\"\"\n",
    "\n",
    "import boto3\n",
    "import json\n",
    "from tensorflow.keras import backend as K\n",
    "from keras.datasets import mnist\n",
    "\n",
    "# データ準備\n",
    "(x_train, y_train), (x_test, y_test) = mnist.load_data()\n",
    "if K.image_data_format() == 'channels_first':\n",
    "    x_train = x_train.reshape(x_train.shape[0], 1, 28, 28)\n",
    "else:\n",
    "    x_train = x_train.reshape(x_train.shape[0], 28, 28, 1)\n",
    "x_train = x_train.astype('float32')\n",
    "x_train /= 255\n",
    "\n",
    "# 推論\n",
    "client = boto3.client(\"sagemaker-runtime\")\n",
    "res = client.invoke_endpoint(\n",
    "    EndpointName=\"mnist-endpoint\",\n",
    "    Body=json.dumps({\"inputs\": [ x_train[0].tolist()]}),\n",
    "    ContentType=\"application/json\",\n",
    "    Accept=\"applicatoin/json\",\n",
    ")\n",
    "result = json.loads(res['Body'].read())"
   ]
  },
  {
   "cell_type": "code",
   "execution_count": null,
   "metadata": {},
   "outputs": [],
   "source": [
    "\n",
    "result"
   ]
  }
 ],
 "metadata": {
  "kernelspec": {
   "display_name": "Python 3.7.9 64-bit",
   "language": "python",
   "name": "python3"
  },
  "language_info": {
   "name": "python",
   "version": "3.7.9"
  },
  "orig_nbformat": 4,
  "vscode": {
   "interpreter": {
    "hash": "bd3e91a28ef9554573e0700407fb2dc48eaa418be147481f66a591973db1368d"
   }
  }
 },
 "nbformat": 4,
 "nbformat_minor": 2
}
