{
 "cells": [
  {
   "cell_type": "code",
   "execution_count": null,
   "metadata": {},
   "outputs": [],
   "source": [
    "\"\"\"\n",
    "h5形式のモデルをSavedModelへ変換し、SageMakerのエンドポイントへデプロイする\n",
    "\"\"\"\n",
    "\n",
    "import boto3\n",
    "import json\n",
    "import os \n",
    " \n",
    "import sagemaker\n",
    "from sagemaker import get_execution_role\n",
    "from sagemaker.tensorflow.serving import Model\n",
    " \n",
    "import tensorflow as tf\n",
    "from tensorflow.keras import backend as K\n",
    "from tensorflow.keras.models import model_from_json, load_model\n",
    "from tensorflow.python.saved_model import builder\n",
    "from tensorflow.python.saved_model import tag_constants\n",
    "from tensorflow.python.saved_model.signature_def_utils import predict_signature_def\n",
    " \n",
    "# IAMロール定義取得\n",
    "role = get_execution_role()"
   ]
  },
  {
   "cell_type": "code",
   "execution_count": null,
   "metadata": {},
   "outputs": [],
   "source": [
    "# h5形式のモデル読み込み\n",
    "model = load_model('model.h5')\n",
    "\n",
    "# SavedModel形式への変換\n",
    "input_sig  = 'inputs'\n",
    "output_sig = 'score'\n",
    "signature = predict_signature_def(inputs={input_sig: model.input}, outputs={output_sig:model.output})\n",
    "model_version = '1'\n",
    "export_path   = './tf_model/mnist/' + model_version\n",
    "if not os.path.exists(export_path):\n",
    "    os.mkdir(export_path)\n",
    "\n",
    "with K.get_session() as sess:\n",
    "    builder = tf.saved_model.builder.SavedModelBuilder(export_path)\n",
    "    builder.add_meta_graph_and_variables(sess, [tf.saved_model.tag_constants.SERVING], signature_def_map={'serving_default': signature}, main_op=tf.tables_initializer())\n",
    "    builder.save()"
   ]
  },
  {
   "cell_type": "code",
   "execution_count": null,
   "metadata": {},
   "outputs": [],
   "source": [
    "# サーバ側の推論用ソースコードを含めた形でSavedModel形式のモデルを圧縮\n",
    "!cd /home/ec2-user/SageMaker\n",
    "! tar zcvf model.tar.gz  tf_model/mnist tf_model/code"
   ]
  },
  {
   "cell_type": "code",
   "execution_count": null,
   "metadata": {},
   "outputs": [],
   "source": [
    "# S3へモデルデータをアップロード\n",
    "sagemaker_session  = sagemaker.Session()\n",
    "model_data = sagemaker_session.upload_data(path='tf_model/model.tar.gz', key_prefix='model')\n",
    "print(\"done\")"
   ]
  },
  {
   "cell_type": "code",
   "execution_count": null,
   "metadata": {},
   "outputs": [],
   "source": [
    "# サーバーレス設定\n",
    "serverless_config = ServerlessInferenceConfig(\n",
    "    memory_size_in_mb=4096,\n",
    "    max_concurrency=3\n",
    ")\n",
    "\n",
    "# エンドポイントへモデルをデプロイ\n",
    "tensorflow_serving_mnist_model = Model(model_data=model_data,\n",
    "                                        role=role,\n",
    "                                        framework_version='1.15.5')\n",
    "predictor = tensorflow_serving_mnist_model.deploy(initial_instance_count=1,\n",
    "                                                    instance_type='ml.t2.medium',\n",
    "                                                    endpoint_name='mnist-endpoint',\n",
    "                                                    serverless_inference_config=serverless_config)"
   ]
  },
  {
   "cell_type": "code",
   "execution_count": null,
   "metadata": {},
   "outputs": [],
   "source": [
    "# 推論の動作確認\n",
    "import pickle as pkl\n",
    "img = pkl.load(open(\"data/mnist.pickle\", \"rb\"))\n",
    "len(img[0][0]), len(img[0][1])\n",
    "from keras.datasets import mnist\n",
    "(x_train, y_train), (x_test, y_test) = mnist.load_data()\n",
    "if K.image_data_format() == 'channels_first':\n",
    "    x_train = x_train.reshape(x_train.shape[0], 1, 28, 28)\n",
    "else:\n",
    "    x_train = x_train.reshape(x_train.shape[0], 28, 28, 1)\n",
    "x_train = x_train.astype('float32')\n",
    "x_train /= 255\n",
    "client = boto3.client(\"sagemaker-runtime\")\n",
    "res = client.invoke_endpoint(EndpointName=predictor.endpoint_name,\n",
    "                            Body=json.dumps({'inputs':[x_train[0].tolist()]}),\n",
    "                            ContentType='application/json',\n",
    "                            Accept='application/json')\n",
    "result = json.loads(res['Body'].read())"
   ]
  },
  {
   "cell_type": "code",
   "execution_count": null,
   "metadata": {},
   "outputs": [],
   "source": [
    "result"
   ]
  }
 ],
 "metadata": {
  "kernelspec": {
   "display_name": "Python 3.7.9 64-bit",
   "language": "python",
   "name": "python3"
  },
  "language_info": {
   "name": "python",
   "version": "3.7.9"
  },
  "orig_nbformat": 4,
  "vscode": {
   "interpreter": {
    "hash": "bd3e91a28ef9554573e0700407fb2dc48eaa418be147481f66a591973db1368d"
   }
  }
 },
 "nbformat": 4,
 "nbformat_minor": 2
}
