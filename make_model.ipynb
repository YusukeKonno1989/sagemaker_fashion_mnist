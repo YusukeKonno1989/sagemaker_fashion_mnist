{
 "cells": [
  {
   "cell_type": "code",
   "execution_count": null,
   "metadata": {},
   "outputs": [],
   "source": [
    "\"\"\"\n",
    "機械学習モデルの訓練および、tar.gzからのモデル抽出を行なう。モデルの構造やデータ変換のロジックはfashion_mnist.pyにある。\n",
    "\"\"\"\n",
    "\n",
    "import os\n",
    "import pickle\n",
    "import sagemaker\n",
    "import keras\n",
    "\n",
    "from keras.datasets import fashion_mnist\n",
    "from sagemaker.tensorflow import TensorFlow\n",
    "\n",
    "os.makedirs('data', exist_ok=True)\n",
    "fout = open('data/fashion_mnist.pickle', 'wb')\n",
    "pickle.dump(fashion_mnist.load_data(), fout)"
   ]
  },
  {
   "cell_type": "code",
   "execution_count": null,
   "metadata": {},
   "outputs": [],
   "source": [
    "session = sagemaker.Session()\n",
    "bucket_name = session.default_bucket()\n",
    "inputs = session.upload_data(path='data', bucket=bucket_name, key_prefix='data')"
   ]
  },
  {
   "cell_type": "code",
   "execution_count": null,
   "metadata": {},
   "outputs": [],
   "source": [
    "role = sagemaker.get_execution_role()\n",
    "tf_estimator = TensorFlow(\n",
    "\tentry_point='fashion_mnist.py',\n",
    "\trole=role,\n",
    "\ttrain_instance_count=1,\n",
    "\ttrain_instance_type='ml.m5.xlarge',\n",
    "\tframework_version='1.12.0',\n",
    "\tpy_version='py3',\n",
    "\tscript_mode=True)\n",
    "\n",
    "tf_estimator.fit(inputs)"
   ]
  },
  {
   "cell_type": "code",
   "execution_count": null,
   "metadata": {},
   "outputs": [],
   "source": [
    "import tarfile\n",
    "import boto3\n",
    "\n",
    "job_name = tf_estimator.latest_training_job.name\n",
    "\n",
    "s3 = boto3.resource('s3')\n",
    "bucket = s3.Bucket(bucket_name)\n",
    "\n",
    "bucket.download_file(os.path.join(job_name, 'output/output.tar.gz'), 'output.tar.gz')\n",
    "tarfile.open('output.tar.gz', 'r:gz').extractall()\n",
    "model = keras.models.load_model('model.h5')"
   ]
  },
  {
   "cell_type": "code",
   "execution_count": null,
   "metadata": {},
   "outputs": [],
   "source": [
    "model"
   ]
  }
 ],
 "metadata": {
  "kernelspec": {
   "display_name": "Python 3.7.9 64-bit",
   "language": "python",
   "name": "python3"
  },
  "language_info": {
   "codemirror_mode": {
    "name": "ipython",
    "version": 3
   },
   "file_extension": ".py",
   "mimetype": "text/x-python",
   "name": "python",
   "nbconvert_exporter": "python",
   "pygments_lexer": "ipython3",
   "version": "3.7.9"
  },
  "orig_nbformat": 4,
  "vscode": {
   "interpreter": {
    "hash": "bd3e91a28ef9554573e0700407fb2dc48eaa418be147481f66a591973db1368d"
   }
  }
 },
 "nbformat": 4,
 "nbformat_minor": 2
}
